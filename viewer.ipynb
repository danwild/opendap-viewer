{
 "cells": [
  {
   "cell_type": "code",
   "execution_count": 20,
   "metadata": {
    "collapsed": true
   },
   "outputs": [
    {
     "name": "stdout",
     "output_type": "stream",
     "text": [
      "Requirement already satisfied: dask in /anaconda3/envs/opendap-viewer/lib/python3.6/site-packages (1.2.2)\n",
      "Requirement already satisfied: toolz in /anaconda3/envs/opendap-viewer/lib/python3.6/site-packages (0.9.0)\n",
      "Requirement already satisfied: scikit-image in /anaconda3/envs/opendap-viewer/lib/python3.6/site-packages (0.15.0)\n",
      "Requirement already satisfied: matplotlib in /anaconda3/envs/opendap-viewer/lib/python3.6/site-packages (3.0.3)\n",
      "Requirement already satisfied: itkwidgets in /anaconda3/envs/opendap-viewer/lib/python3.6/site-packages (0.16.1)\n",
      "Requirement already satisfied: itk-io in /anaconda3/envs/opendap-viewer/lib/python3.6/site-packages (4.13.2.post1)\n",
      "Requirement already satisfied: xarray in /anaconda3/envs/opendap-viewer/lib/python3.6/site-packages (0.12.1)\n",
      "Requirement already satisfied: PyWavelets>=0.4.0 in /anaconda3/envs/opendap-viewer/lib/python3.6/site-packages (from scikit-image) (1.0.3)\n",
      "Requirement already satisfied: imageio>=2.0.1 in /anaconda3/envs/opendap-viewer/lib/python3.6/site-packages (from scikit-image) (2.5.0)\n",
      "Requirement already satisfied: scipy>=0.17.0 in /anaconda3/envs/opendap-viewer/lib/python3.6/site-packages (from scikit-image) (1.2.1)\n",
      "Requirement already satisfied: networkx>=2.0 in /anaconda3/envs/opendap-viewer/lib/python3.6/site-packages (from scikit-image) (2.3)\n",
      "Requirement already satisfied: pillow>=4.3.0 in /anaconda3/envs/opendap-viewer/lib/python3.6/site-packages (from scikit-image) (6.0.0)\n",
      "Requirement already satisfied: python-dateutil>=2.1 in /anaconda3/envs/opendap-viewer/lib/python3.6/site-packages (from matplotlib) (2.8.0)\n",
      "Requirement already satisfied: cycler>=0.10 in /anaconda3/envs/opendap-viewer/lib/python3.6/site-packages (from matplotlib) (0.10.0)\n",
      "Requirement already satisfied: numpy>=1.10.0 in /anaconda3/envs/opendap-viewer/lib/python3.6/site-packages (from matplotlib) (1.16.3)\n",
      "Requirement already satisfied: kiwisolver>=1.0.1 in /anaconda3/envs/opendap-viewer/lib/python3.6/site-packages (from matplotlib) (1.1.0)\n",
      "Requirement already satisfied: pyparsing!=2.0.4,!=2.1.2,!=2.1.6,>=2.0.1 in /anaconda3/envs/opendap-viewer/lib/python3.6/site-packages (from matplotlib) (2.4.0)\n",
      "Requirement already satisfied: itk-core>=4.13.1 in /anaconda3/envs/opendap-viewer/lib/python3.6/site-packages (from itkwidgets) (4.13.2.post1)\n",
      "Requirement already satisfied: six in /anaconda3/envs/opendap-viewer/lib/python3.6/site-packages (from itkwidgets) (1.12.0)\n",
      "Requirement already satisfied: zstandard in /anaconda3/envs/opendap-viewer/lib/python3.6/site-packages (from itkwidgets) (0.11.0)\n",
      "Requirement already satisfied: ipympl in /anaconda3/envs/opendap-viewer/lib/python3.6/site-packages (from itkwidgets) (0.2.1)\n",
      "Requirement already satisfied: ipywidgets>=7.4.0 in /anaconda3/envs/opendap-viewer/lib/python3.6/site-packages (from itkwidgets) (7.4.2)\n",
      "Requirement already satisfied: itk-filtering>=4.13.1 in /anaconda3/envs/opendap-viewer/lib/python3.6/site-packages (from itkwidgets) (4.13.2.post1)\n",
      "Requirement already satisfied: ipydatawidgets>=3.2.0 in /anaconda3/envs/opendap-viewer/lib/python3.6/site-packages (from itkwidgets) (4.0.0)\n",
      "Requirement already satisfied: pandas>=0.19.2 in /anaconda3/envs/opendap-viewer/lib/python3.6/site-packages (from xarray) (0.24.2)\n",
      "Requirement already satisfied: decorator>=4.3.0 in /anaconda3/envs/opendap-viewer/lib/python3.6/site-packages (from networkx>=2.0->scikit-image) (4.4.0)\n",
      "Requirement already satisfied: setuptools in /anaconda3/envs/opendap-viewer/lib/python3.6/site-packages (from kiwisolver>=1.0.1->matplotlib) (41.0.1)\n",
      "Requirement already satisfied: ipykernel>=4.7 in /anaconda3/envs/opendap-viewer/lib/python3.6/site-packages (from ipympl->itkwidgets) (5.1.0)\n",
      "Requirement already satisfied: nbformat>=4.2.0 in /anaconda3/envs/opendap-viewer/lib/python3.6/site-packages (from ipywidgets>=7.4.0->itkwidgets) (4.4.0)\n",
      "Requirement already satisfied: ipython>=4.0.0; python_version >= \"3.3\" in /anaconda3/envs/opendap-viewer/lib/python3.6/site-packages (from ipywidgets>=7.4.0->itkwidgets) (7.5.0)\n",
      "Requirement already satisfied: widgetsnbextension~=3.4.0 in /anaconda3/envs/opendap-viewer/lib/python3.6/site-packages (from ipywidgets>=7.4.0->itkwidgets) (3.4.2)\n",
      "Requirement already satisfied: traitlets>=4.3.1 in /anaconda3/envs/opendap-viewer/lib/python3.6/site-packages (from ipywidgets>=7.4.0->itkwidgets) (4.3.2)\n",
      "Requirement already satisfied: itk-numerics in /anaconda3/envs/opendap-viewer/lib/python3.6/site-packages (from itk-filtering>=4.13.1->itkwidgets) (4.13.2.post1)\n",
      "Requirement already satisfied: traittypes>=0.2.0 in /anaconda3/envs/opendap-viewer/lib/python3.6/site-packages (from ipydatawidgets>=3.2.0->itkwidgets) (0.2.1)\n",
      "Requirement already satisfied: pytz>=2011k in /anaconda3/envs/opendap-viewer/lib/python3.6/site-packages (from pandas>=0.19.2->xarray) (2019.1)\n",
      "Requirement already satisfied: jupyter-client in /anaconda3/envs/opendap-viewer/lib/python3.6/site-packages (from ipykernel>=4.7->ipympl->itkwidgets) (5.2.4)\n",
      "Requirement already satisfied: tornado>=4.2 in /anaconda3/envs/opendap-viewer/lib/python3.6/site-packages (from ipykernel>=4.7->ipympl->itkwidgets) (6.0.2)\n",
      "Requirement already satisfied: jsonschema!=2.5.0,>=2.4 in /anaconda3/envs/opendap-viewer/lib/python3.6/site-packages (from nbformat>=4.2.0->ipywidgets>=7.4.0->itkwidgets) (3.0.1)\n",
      "Requirement already satisfied: jupyter-core in /anaconda3/envs/opendap-viewer/lib/python3.6/site-packages (from nbformat>=4.2.0->ipywidgets>=7.4.0->itkwidgets) (4.4.0)\n",
      "Requirement already satisfied: ipython-genutils in /anaconda3/envs/opendap-viewer/lib/python3.6/site-packages (from nbformat>=4.2.0->ipywidgets>=7.4.0->itkwidgets) (0.2.0)\n",
      "Requirement already satisfied: jedi>=0.10 in /anaconda3/envs/opendap-viewer/lib/python3.6/site-packages (from ipython>=4.0.0; python_version >= \"3.3\"->ipywidgets>=7.4.0->itkwidgets) (0.13.3)\n",
      "Requirement already satisfied: pexpect; sys_platform != \"win32\" in /anaconda3/envs/opendap-viewer/lib/python3.6/site-packages (from ipython>=4.0.0; python_version >= \"3.3\"->ipywidgets>=7.4.0->itkwidgets) (4.7.0)\n",
      "Requirement already satisfied: backcall in /anaconda3/envs/opendap-viewer/lib/python3.6/site-packages (from ipython>=4.0.0; python_version >= \"3.3\"->ipywidgets>=7.4.0->itkwidgets) (0.1.0)\n",
      "Requirement already satisfied: appnope; sys_platform == \"darwin\" in /anaconda3/envs/opendap-viewer/lib/python3.6/site-packages (from ipython>=4.0.0; python_version >= \"3.3\"->ipywidgets>=7.4.0->itkwidgets) (0.1.0)\n",
      "Requirement already satisfied: pickleshare in /anaconda3/envs/opendap-viewer/lib/python3.6/site-packages (from ipython>=4.0.0; python_version >= \"3.3\"->ipywidgets>=7.4.0->itkwidgets) (0.7.5)\n",
      "Requirement already satisfied: pygments in /anaconda3/envs/opendap-viewer/lib/python3.6/site-packages (from ipython>=4.0.0; python_version >= \"3.3\"->ipywidgets>=7.4.0->itkwidgets) (2.4.0)\n",
      "Requirement already satisfied: prompt-toolkit<2.1.0,>=2.0.0 in /anaconda3/envs/opendap-viewer/lib/python3.6/site-packages (from ipython>=4.0.0; python_version >= \"3.3\"->ipywidgets>=7.4.0->itkwidgets) (2.0.9)\n",
      "Requirement already satisfied: notebook>=4.4.1 in /anaconda3/envs/opendap-viewer/lib/python3.6/site-packages (from widgetsnbextension~=3.4.0->ipywidgets>=7.4.0->itkwidgets) (5.7.8)\n",
      "Requirement already satisfied: pyzmq>=13 in /anaconda3/envs/opendap-viewer/lib/python3.6/site-packages (from jupyter-client->ipykernel>=4.7->ipympl->itkwidgets) (18.0.1)\n",
      "Requirement already satisfied: pyrsistent>=0.14.0 in /anaconda3/envs/opendap-viewer/lib/python3.6/site-packages (from jsonschema!=2.5.0,>=2.4->nbformat>=4.2.0->ipywidgets>=7.4.0->itkwidgets) (0.15.2)\n",
      "Requirement already satisfied: attrs>=17.4.0 in /anaconda3/envs/opendap-viewer/lib/python3.6/site-packages (from jsonschema!=2.5.0,>=2.4->nbformat>=4.2.0->ipywidgets>=7.4.0->itkwidgets) (19.1.0)\n",
      "Requirement already satisfied: parso>=0.3.0 in /anaconda3/envs/opendap-viewer/lib/python3.6/site-packages (from jedi>=0.10->ipython>=4.0.0; python_version >= \"3.3\"->ipywidgets>=7.4.0->itkwidgets) (0.4.0)\n",
      "Requirement already satisfied: ptyprocess>=0.5 in /anaconda3/envs/opendap-viewer/lib/python3.6/site-packages (from pexpect; sys_platform != \"win32\"->ipython>=4.0.0; python_version >= \"3.3\"->ipywidgets>=7.4.0->itkwidgets) (0.6.0)\n"
     ]
    },
    {
     "name": "stdout",
     "output_type": "stream",
     "text": [
      "Requirement already satisfied: wcwidth in /anaconda3/envs/opendap-viewer/lib/python3.6/site-packages (from prompt-toolkit<2.1.0,>=2.0.0->ipython>=4.0.0; python_version >= \"3.3\"->ipywidgets>=7.4.0->itkwidgets) (0.1.7)\n",
      "Requirement already satisfied: nbconvert in /anaconda3/envs/opendap-viewer/lib/python3.6/site-packages (from notebook>=4.4.1->widgetsnbextension~=3.4.0->ipywidgets>=7.4.0->itkwidgets) (5.5.0)\n",
      "Requirement already satisfied: Send2Trash in /anaconda3/envs/opendap-viewer/lib/python3.6/site-packages (from notebook>=4.4.1->widgetsnbextension~=3.4.0->ipywidgets>=7.4.0->itkwidgets) (1.5.0)\n",
      "Requirement already satisfied: jinja2 in /anaconda3/envs/opendap-viewer/lib/python3.6/site-packages (from notebook>=4.4.1->widgetsnbextension~=3.4.0->ipywidgets>=7.4.0->itkwidgets) (2.10.1)\n",
      "Requirement already satisfied: terminado>=0.8.1 in /anaconda3/envs/opendap-viewer/lib/python3.6/site-packages (from notebook>=4.4.1->widgetsnbextension~=3.4.0->ipywidgets>=7.4.0->itkwidgets) (0.8.2)\n",
      "Requirement already satisfied: prometheus-client in /anaconda3/envs/opendap-viewer/lib/python3.6/site-packages (from notebook>=4.4.1->widgetsnbextension~=3.4.0->ipywidgets>=7.4.0->itkwidgets) (0.6.0)\n",
      "Requirement already satisfied: defusedxml in /anaconda3/envs/opendap-viewer/lib/python3.6/site-packages (from nbconvert->notebook>=4.4.1->widgetsnbextension~=3.4.0->ipywidgets>=7.4.0->itkwidgets) (0.6.0)\n",
      "Requirement already satisfied: entrypoints>=0.2.2 in /anaconda3/envs/opendap-viewer/lib/python3.6/site-packages (from nbconvert->notebook>=4.4.1->widgetsnbextension~=3.4.0->ipywidgets>=7.4.0->itkwidgets) (0.3)\n",
      "Requirement already satisfied: mistune>=0.8.1 in /anaconda3/envs/opendap-viewer/lib/python3.6/site-packages (from nbconvert->notebook>=4.4.1->widgetsnbextension~=3.4.0->ipywidgets>=7.4.0->itkwidgets) (0.8.4)\n",
      "Requirement already satisfied: bleach in /anaconda3/envs/opendap-viewer/lib/python3.6/site-packages (from nbconvert->notebook>=4.4.1->widgetsnbextension~=3.4.0->ipywidgets>=7.4.0->itkwidgets) (3.1.0)\n",
      "Requirement already satisfied: pandocfilters>=1.4.1 in /anaconda3/envs/opendap-viewer/lib/python3.6/site-packages (from nbconvert->notebook>=4.4.1->widgetsnbextension~=3.4.0->ipywidgets>=7.4.0->itkwidgets) (1.4.2)\n",
      "Requirement already satisfied: testpath in /anaconda3/envs/opendap-viewer/lib/python3.6/site-packages (from nbconvert->notebook>=4.4.1->widgetsnbextension~=3.4.0->ipywidgets>=7.4.0->itkwidgets) (0.4.2)\n",
      "Requirement already satisfied: MarkupSafe>=0.23 in /anaconda3/envs/opendap-viewer/lib/python3.6/site-packages (from jinja2->notebook>=4.4.1->widgetsnbextension~=3.4.0->ipywidgets>=7.4.0->itkwidgets) (1.1.1)\n",
      "Requirement already satisfied: webencodings in /anaconda3/envs/opendap-viewer/lib/python3.6/site-packages (from bleach->nbconvert->notebook>=4.4.1->widgetsnbextension~=3.4.0->ipywidgets>=7.4.0->itkwidgets) (0.5.1)\n"
     ]
    }
   ],
   "source": [
    "# Install dependencies for this example\n",
    "# Note: This does not include itk-jupyter-widgets, itself\n",
    "import sys\n",
    "!{sys.executable} -m pip install dask toolz scikit-image matplotlib itkwidgets itk-io xarray"
   ]
  },
  {
   "cell_type": "code",
   "execution_count": 21,
   "metadata": {},
   "outputs": [],
   "source": [
    "import itk\n",
    "import dask.array.image\n",
    "from itkwidgets import view"
   ]
  },
  {
   "cell_type": "code",
   "execution_count": 22,
   "metadata": {
    "collapsed": true
   },
   "outputs": [
    {
     "name": "stdout",
     "output_type": "stream",
     "text": [
      "Requirement already satisfied: itkwidgets in /anaconda3/envs/opendap-viewer/lib/python3.6/site-packages (0.16.1)\n",
      "Requirement already satisfied: toolz in /anaconda3/envs/opendap-viewer/lib/python3.6/site-packages (0.9.0)\n",
      "Requirement already satisfied: scikit-image in /anaconda3/envs/opendap-viewer/lib/python3.6/site-packages (0.15.0)\n",
      "Requirement already satisfied: itk-io in /anaconda3/envs/opendap-viewer/lib/python3.6/site-packages (4.13.2.post1)\n",
      "Requirement already satisfied: netCDF4 in /anaconda3/envs/opendap-viewer/lib/python3.6/site-packages (1.5.1.2)\n",
      "Requirement already satisfied: numpy in /anaconda3/envs/opendap-viewer/lib/python3.6/site-packages (from itkwidgets) (1.16.3)\n",
      "Requirement already satisfied: ipydatawidgets>=3.2.0 in /anaconda3/envs/opendap-viewer/lib/python3.6/site-packages (from itkwidgets) (4.0.0)\n",
      "Requirement already satisfied: zstandard in /anaconda3/envs/opendap-viewer/lib/python3.6/site-packages (from itkwidgets) (0.11.0)\n",
      "Requirement already satisfied: ipywidgets>=7.4.0 in /anaconda3/envs/opendap-viewer/lib/python3.6/site-packages (from itkwidgets) (7.4.2)\n",
      "Requirement already satisfied: six in /anaconda3/envs/opendap-viewer/lib/python3.6/site-packages (from itkwidgets) (1.12.0)\n",
      "Requirement already satisfied: ipympl in /anaconda3/envs/opendap-viewer/lib/python3.6/site-packages (from itkwidgets) (0.2.1)\n",
      "Requirement already satisfied: itk-filtering>=4.13.1 in /anaconda3/envs/opendap-viewer/lib/python3.6/site-packages (from itkwidgets) (4.13.2.post1)\n",
      "Requirement already satisfied: itk-core>=4.13.1 in /anaconda3/envs/opendap-viewer/lib/python3.6/site-packages (from itkwidgets) (4.13.2.post1)\n",
      "Requirement already satisfied: scipy in /anaconda3/envs/opendap-viewer/lib/python3.6/site-packages (from itkwidgets) (1.2.1)\n",
      "Requirement already satisfied: pillow>=4.3.0 in /anaconda3/envs/opendap-viewer/lib/python3.6/site-packages (from scikit-image) (6.0.0)\n",
      "Requirement already satisfied: PyWavelets>=0.4.0 in /anaconda3/envs/opendap-viewer/lib/python3.6/site-packages (from scikit-image) (1.0.3)\n",
      "Requirement already satisfied: matplotlib!=3.0.0,>=2.0.0 in /anaconda3/envs/opendap-viewer/lib/python3.6/site-packages (from scikit-image) (3.0.3)\n",
      "Requirement already satisfied: imageio>=2.0.1 in /anaconda3/envs/opendap-viewer/lib/python3.6/site-packages (from scikit-image) (2.5.0)\n",
      "Requirement already satisfied: networkx>=2.0 in /anaconda3/envs/opendap-viewer/lib/python3.6/site-packages (from scikit-image) (2.3)\n",
      "Requirement already satisfied: cftime in /anaconda3/envs/opendap-viewer/lib/python3.6/site-packages (from netCDF4) (1.0.3.4)\n",
      "Requirement already satisfied: traittypes>=0.2.0 in /anaconda3/envs/opendap-viewer/lib/python3.6/site-packages (from ipydatawidgets>=3.2.0->itkwidgets) (0.2.1)\n",
      "Requirement already satisfied: widgetsnbextension~=3.4.0 in /anaconda3/envs/opendap-viewer/lib/python3.6/site-packages (from ipywidgets>=7.4.0->itkwidgets) (3.4.2)\n",
      "Requirement already satisfied: traitlets>=4.3.1 in /anaconda3/envs/opendap-viewer/lib/python3.6/site-packages (from ipywidgets>=7.4.0->itkwidgets) (4.3.2)\n",
      "Requirement already satisfied: ipykernel>=4.5.1 in /anaconda3/envs/opendap-viewer/lib/python3.6/site-packages (from ipywidgets>=7.4.0->itkwidgets) (5.1.0)\n",
      "Requirement already satisfied: nbformat>=4.2.0 in /anaconda3/envs/opendap-viewer/lib/python3.6/site-packages (from ipywidgets>=7.4.0->itkwidgets) (4.4.0)\n",
      "Requirement already satisfied: ipython>=4.0.0; python_version >= \"3.3\" in /anaconda3/envs/opendap-viewer/lib/python3.6/site-packages (from ipywidgets>=7.4.0->itkwidgets) (7.5.0)\n",
      "Requirement already satisfied: itk-numerics in /anaconda3/envs/opendap-viewer/lib/python3.6/site-packages (from itk-filtering>=4.13.1->itkwidgets) (4.13.2.post1)\n",
      "Requirement already satisfied: kiwisolver>=1.0.1 in /anaconda3/envs/opendap-viewer/lib/python3.6/site-packages (from matplotlib!=3.0.0,>=2.0.0->scikit-image) (1.1.0)\n",
      "Requirement already satisfied: cycler>=0.10 in /anaconda3/envs/opendap-viewer/lib/python3.6/site-packages (from matplotlib!=3.0.0,>=2.0.0->scikit-image) (0.10.0)\n",
      "Requirement already satisfied: python-dateutil>=2.1 in /anaconda3/envs/opendap-viewer/lib/python3.6/site-packages (from matplotlib!=3.0.0,>=2.0.0->scikit-image) (2.8.0)\n",
      "Requirement already satisfied: pyparsing!=2.0.4,!=2.1.2,!=2.1.6,>=2.0.1 in /anaconda3/envs/opendap-viewer/lib/python3.6/site-packages (from matplotlib!=3.0.0,>=2.0.0->scikit-image) (2.4.0)\n",
      "Requirement already satisfied: decorator>=4.3.0 in /anaconda3/envs/opendap-viewer/lib/python3.6/site-packages (from networkx>=2.0->scikit-image) (4.4.0)\n",
      "Requirement already satisfied: notebook>=4.4.1 in /anaconda3/envs/opendap-viewer/lib/python3.6/site-packages (from widgetsnbextension~=3.4.0->ipywidgets>=7.4.0->itkwidgets) (5.7.8)\n",
      "Requirement already satisfied: ipython-genutils in /anaconda3/envs/opendap-viewer/lib/python3.6/site-packages (from traitlets>=4.3.1->ipywidgets>=7.4.0->itkwidgets) (0.2.0)\n",
      "Requirement already satisfied: jupyter-client in /anaconda3/envs/opendap-viewer/lib/python3.6/site-packages (from ipykernel>=4.5.1->ipywidgets>=7.4.0->itkwidgets) (5.2.4)\n",
      "Requirement already satisfied: tornado>=4.2 in /anaconda3/envs/opendap-viewer/lib/python3.6/site-packages (from ipykernel>=4.5.1->ipywidgets>=7.4.0->itkwidgets) (6.0.2)\n",
      "Requirement already satisfied: jupyter-core in /anaconda3/envs/opendap-viewer/lib/python3.6/site-packages (from nbformat>=4.2.0->ipywidgets>=7.4.0->itkwidgets) (4.4.0)\n",
      "Requirement already satisfied: jsonschema!=2.5.0,>=2.4 in /anaconda3/envs/opendap-viewer/lib/python3.6/site-packages (from nbformat>=4.2.0->ipywidgets>=7.4.0->itkwidgets) (3.0.1)\n",
      "Requirement already satisfied: jedi>=0.10 in /anaconda3/envs/opendap-viewer/lib/python3.6/site-packages (from ipython>=4.0.0; python_version >= \"3.3\"->ipywidgets>=7.4.0->itkwidgets) (0.13.3)\n",
      "Requirement already satisfied: pickleshare in /anaconda3/envs/opendap-viewer/lib/python3.6/site-packages (from ipython>=4.0.0; python_version >= \"3.3\"->ipywidgets>=7.4.0->itkwidgets) (0.7.5)\n",
      "Requirement already satisfied: setuptools>=18.5 in /anaconda3/envs/opendap-viewer/lib/python3.6/site-packages (from ipython>=4.0.0; python_version >= \"3.3\"->ipywidgets>=7.4.0->itkwidgets) (41.0.1)\n",
      "Requirement already satisfied: prompt-toolkit<2.1.0,>=2.0.0 in /anaconda3/envs/opendap-viewer/lib/python3.6/site-packages (from ipython>=4.0.0; python_version >= \"3.3\"->ipywidgets>=7.4.0->itkwidgets) (2.0.9)\n",
      "Requirement already satisfied: backcall in /anaconda3/envs/opendap-viewer/lib/python3.6/site-packages (from ipython>=4.0.0; python_version >= \"3.3\"->ipywidgets>=7.4.0->itkwidgets) (0.1.0)\n",
      "Requirement already satisfied: pygments in /anaconda3/envs/opendap-viewer/lib/python3.6/site-packages (from ipython>=4.0.0; python_version >= \"3.3\"->ipywidgets>=7.4.0->itkwidgets) (2.4.0)\n",
      "Requirement already satisfied: pexpect; sys_platform != \"win32\" in /anaconda3/envs/opendap-viewer/lib/python3.6/site-packages (from ipython>=4.0.0; python_version >= \"3.3\"->ipywidgets>=7.4.0->itkwidgets) (4.7.0)\n",
      "Requirement already satisfied: appnope; sys_platform == \"darwin\" in /anaconda3/envs/opendap-viewer/lib/python3.6/site-packages (from ipython>=4.0.0; python_version >= \"3.3\"->ipywidgets>=7.4.0->itkwidgets) (0.1.0)\n",
      "Requirement already satisfied: Send2Trash in /anaconda3/envs/opendap-viewer/lib/python3.6/site-packages (from notebook>=4.4.1->widgetsnbextension~=3.4.0->ipywidgets>=7.4.0->itkwidgets) (1.5.0)\n",
      "Requirement already satisfied: jinja2 in /anaconda3/envs/opendap-viewer/lib/python3.6/site-packages (from notebook>=4.4.1->widgetsnbextension~=3.4.0->ipywidgets>=7.4.0->itkwidgets) (2.10.1)\n",
      "Requirement already satisfied: prometheus-client in /anaconda3/envs/opendap-viewer/lib/python3.6/site-packages (from notebook>=4.4.1->widgetsnbextension~=3.4.0->ipywidgets>=7.4.0->itkwidgets) (0.6.0)\n",
      "Requirement already satisfied: terminado>=0.8.1 in /anaconda3/envs/opendap-viewer/lib/python3.6/site-packages (from notebook>=4.4.1->widgetsnbextension~=3.4.0->ipywidgets>=7.4.0->itkwidgets) (0.8.2)\n",
      "Requirement already satisfied: pyzmq>=17 in /anaconda3/envs/opendap-viewer/lib/python3.6/site-packages (from notebook>=4.4.1->widgetsnbextension~=3.4.0->ipywidgets>=7.4.0->itkwidgets) (18.0.1)\n",
      "Requirement already satisfied: nbconvert in /anaconda3/envs/opendap-viewer/lib/python3.6/site-packages (from notebook>=4.4.1->widgetsnbextension~=3.4.0->ipywidgets>=7.4.0->itkwidgets) (5.5.0)\n"
     ]
    },
    {
     "name": "stdout",
     "output_type": "stream",
     "text": [
      "Requirement already satisfied: attrs>=17.4.0 in /anaconda3/envs/opendap-viewer/lib/python3.6/site-packages (from jsonschema!=2.5.0,>=2.4->nbformat>=4.2.0->ipywidgets>=7.4.0->itkwidgets) (19.1.0)\n",
      "Requirement already satisfied: pyrsistent>=0.14.0 in /anaconda3/envs/opendap-viewer/lib/python3.6/site-packages (from jsonschema!=2.5.0,>=2.4->nbformat>=4.2.0->ipywidgets>=7.4.0->itkwidgets) (0.15.2)\n",
      "Requirement already satisfied: parso>=0.3.0 in /anaconda3/envs/opendap-viewer/lib/python3.6/site-packages (from jedi>=0.10->ipython>=4.0.0; python_version >= \"3.3\"->ipywidgets>=7.4.0->itkwidgets) (0.4.0)\n",
      "Requirement already satisfied: wcwidth in /anaconda3/envs/opendap-viewer/lib/python3.6/site-packages (from prompt-toolkit<2.1.0,>=2.0.0->ipython>=4.0.0; python_version >= \"3.3\"->ipywidgets>=7.4.0->itkwidgets) (0.1.7)\n",
      "Requirement already satisfied: ptyprocess>=0.5 in /anaconda3/envs/opendap-viewer/lib/python3.6/site-packages (from pexpect; sys_platform != \"win32\"->ipython>=4.0.0; python_version >= \"3.3\"->ipywidgets>=7.4.0->itkwidgets) (0.6.0)\n",
      "Requirement already satisfied: MarkupSafe>=0.23 in /anaconda3/envs/opendap-viewer/lib/python3.6/site-packages (from jinja2->notebook>=4.4.1->widgetsnbextension~=3.4.0->ipywidgets>=7.4.0->itkwidgets) (1.1.1)\n",
      "Requirement already satisfied: pandocfilters>=1.4.1 in /anaconda3/envs/opendap-viewer/lib/python3.6/site-packages (from nbconvert->notebook>=4.4.1->widgetsnbextension~=3.4.0->ipywidgets>=7.4.0->itkwidgets) (1.4.2)\n",
      "Requirement already satisfied: bleach in /anaconda3/envs/opendap-viewer/lib/python3.6/site-packages (from nbconvert->notebook>=4.4.1->widgetsnbextension~=3.4.0->ipywidgets>=7.4.0->itkwidgets) (3.1.0)\n",
      "Requirement already satisfied: mistune>=0.8.1 in /anaconda3/envs/opendap-viewer/lib/python3.6/site-packages (from nbconvert->notebook>=4.4.1->widgetsnbextension~=3.4.0->ipywidgets>=7.4.0->itkwidgets) (0.8.4)\n",
      "Requirement already satisfied: testpath in /anaconda3/envs/opendap-viewer/lib/python3.6/site-packages (from nbconvert->notebook>=4.4.1->widgetsnbextension~=3.4.0->ipywidgets>=7.4.0->itkwidgets) (0.4.2)\n",
      "Requirement already satisfied: entrypoints>=0.2.2 in /anaconda3/envs/opendap-viewer/lib/python3.6/site-packages (from nbconvert->notebook>=4.4.1->widgetsnbextension~=3.4.0->ipywidgets>=7.4.0->itkwidgets) (0.3)\n",
      "Requirement already satisfied: defusedxml in /anaconda3/envs/opendap-viewer/lib/python3.6/site-packages (from nbconvert->notebook>=4.4.1->widgetsnbextension~=3.4.0->ipywidgets>=7.4.0->itkwidgets) (0.6.0)\n",
      "Requirement already satisfied: webencodings in /anaconda3/envs/opendap-viewer/lib/python3.6/site-packages (from bleach->nbconvert->notebook>=4.4.1->widgetsnbextension~=3.4.0->ipywidgets>=7.4.0->itkwidgets) (0.5.1)\n"
     ]
    }
   ],
   "source": [
    "# Install dependencies for this example\n",
    "# Note: This does not include itk-jupyter-widgets, itself\n",
    "import sys\n",
    "!{sys.executable} -m pip install itkwidgets toolz scikit-image itk-io netCDF4\n",
    "\n",
    "import xarray as xr\n",
    "import numpy\n",
    "import dask\n",
    "\n",
    "import netCDF4 as nc\n",
    "from netCDF4 import Dataset\n",
    "\n",
    "# create dataset from opendap endpoint\n",
    "url = 'http://dapds00.nci.org.au/thredds/dodsC/fx3/model_data/gbr4_2.0.ncml'\n",
    "ds = Dataset(url)"
   ]
  },
  {
   "cell_type": "code",
   "execution_count": 23,
   "metadata": {
    "collapsed": true
   },
   "outputs": [
    {
     "name": "stdout",
     "output_type": "stream",
     "text": [
      "Requirement already up-to-date: dask in /anaconda3/envs/opendap-viewer/lib/python3.6/site-packages (1.2.2)\n",
      "Requirement already up-to-date: distributed in /anaconda3/envs/opendap-viewer/lib/python3.6/site-packages (1.28.1)\n",
      "Requirement already satisfied, skipping upgrade: six in /anaconda3/envs/opendap-viewer/lib/python3.6/site-packages (from distributed) (1.12.0)\n",
      "Requirement already satisfied, skipping upgrade: cloudpickle>=0.2.2 in /anaconda3/envs/opendap-viewer/lib/python3.6/site-packages (from distributed) (1.0.0)\n",
      "Requirement already satisfied, skipping upgrade: zict>=0.1.3 in /anaconda3/envs/opendap-viewer/lib/python3.6/site-packages (from distributed) (0.1.4)\n",
      "Requirement already satisfied, skipping upgrade: psutil>=5.0 in /anaconda3/envs/opendap-viewer/lib/python3.6/site-packages (from distributed) (5.6.2)\n",
      "Requirement already satisfied, skipping upgrade: tornado>=5 in /anaconda3/envs/opendap-viewer/lib/python3.6/site-packages (from distributed) (6.0.2)\n",
      "Requirement already satisfied, skipping upgrade: click>=6.6 in /anaconda3/envs/opendap-viewer/lib/python3.6/site-packages (from distributed) (7.0)\n",
      "Requirement already satisfied, skipping upgrade: sortedcontainers!=2.0.0,!=2.0.1 in /anaconda3/envs/opendap-viewer/lib/python3.6/site-packages (from distributed) (2.1.0)\n",
      "Requirement already satisfied, skipping upgrade: pyyaml in /anaconda3/envs/opendap-viewer/lib/python3.6/site-packages (from distributed) (5.1)\n",
      "Requirement already satisfied, skipping upgrade: toolz>=0.7.4 in /anaconda3/envs/opendap-viewer/lib/python3.6/site-packages (from distributed) (0.9.0)\n",
      "Requirement already satisfied, skipping upgrade: msgpack in /anaconda3/envs/opendap-viewer/lib/python3.6/site-packages (from distributed) (0.6.1)\n",
      "Requirement already satisfied, skipping upgrade: tblib in /anaconda3/envs/opendap-viewer/lib/python3.6/site-packages (from distributed) (1.4.0)\n",
      "Requirement already satisfied, skipping upgrade: heapdict in /anaconda3/envs/opendap-viewer/lib/python3.6/site-packages (from zict>=0.1.3->distributed) (1.0.0)\n"
     ]
    }
   ],
   "source": [
    "!{sys.executable} -m pip install dask distributed --upgrade\n",
    "\n",
    "# this line is only required for jupyterlab\n",
    "!{sys.executable} -m jupyter labextension install @jupyter-widgets/jupyterlab-manager@0.38 itk-jupyter-widgets\n",
    "\n",
    "from dask.distributed import Client\n",
    "import dask.array as da\n",
    "client = Client(n_workers=2)"
   ]
  },
  {
   "cell_type": "code",
   "execution_count": 24,
   "metadata": {},
   "outputs": [],
   "source": [
    "temp = ds['temp'][20000,:,:,:]"
   ]
  },
  {
   "cell_type": "code",
   "execution_count": 25,
   "metadata": {},
   "outputs": [
    {
     "data": {
      "text/plain": [
       "dask.array<array, shape=(47, 180, 600), dtype=float32, chunksize=(47, 180, 600)>"
      ]
     },
     "execution_count": 25,
     "metadata": {},
     "output_type": "execute_result"
    }
   ],
   "source": [
    "arr = da.from_array(temp)\n",
    "arr"
   ]
  },
  {
   "cell_type": "code",
   "execution_count": 26,
   "metadata": {},
   "outputs": [
    {
     "data": {
      "application/vnd.jupyter.widget-view+json": {
       "model_id": "e2de89ea724c443fa611655c7ccf730a",
       "version_major": 2,
       "version_minor": 0
      },
      "text/plain": [
       "Viewer(gradient_opacity=0.4, rendered_image=<itkImagePython.itkImageF3; proxy of <Swig Object of type 'itkImag…"
      ]
     },
     "metadata": {},
     "output_type": "display_data"
    }
   ],
   "source": [
    "view(arr[:,:,:], shadow=False, gradient_opacity=0.4)"
   ]
  },
  {
   "cell_type": "code",
   "execution_count": 32,
   "metadata": {},
   "outputs": [
    {
     "data": {
      "application/vnd.jupyter.widget-view+json": {
       "model_id": "7b3ae7e799f44bfd88a6e5c197e21a4d",
       "version_major": 2,
       "version_minor": 0
      },
      "text/plain": [
       "interactive(children=(IntSlider(value=10, description='x', max=30, min=-10), Output()), _dom_classes=('widget-…"
      ]
     },
     "metadata": {},
     "output_type": "display_data"
    },
    {
     "data": {
      "text/plain": [
       "<function __main__.f(x)>"
      ]
     },
     "execution_count": 32,
     "metadata": {},
     "output_type": "execute_result"
    }
   ],
   "source": [
    "from ipywidgets import interact\n",
    "def f(x):\n",
    "    return x\n",
    "\n",
    "interact(f, x=10)"
   ]
  },
  {
   "cell_type": "code",
   "execution_count": null,
   "metadata": {},
   "outputs": [],
   "source": []
  }
 ],
 "metadata": {
  "kernelspec": {
   "display_name": "Python 3",
   "language": "python",
   "name": "python3"
  },
  "language_info": {
   "codemirror_mode": {
    "name": "ipython",
    "version": 3
   },
   "file_extension": ".py",
   "mimetype": "text/x-python",
   "name": "python",
   "nbconvert_exporter": "python",
   "pygments_lexer": "ipython3",
   "version": "3.6.7"
  }
 },
 "nbformat": 4,
 "nbformat_minor": 2
}
